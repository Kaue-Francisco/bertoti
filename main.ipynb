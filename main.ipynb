{
 "cells": [
  {
   "cell_type": "markdown",
   "metadata": {},
   "source": [
    "#### Imports"
   ]
  },
  {
   "cell_type": "code",
   "execution_count": 1,
   "metadata": {
    "id": "6umXZI0eCfIS"
   },
   "outputs": [],
   "source": [
    "# Telegram Bot\n",
    "import telebot\n",
    "from telebot.types import InlineKeyboardMarkup, InlineKeyboardButton\n",
    "\n",
    "# Config Driver\n",
    "from config.config_driver import ConfigDriver\n",
    "\n",
    "# Amazon Driver\n",
    "from amazon.amazon import Amazon\n",
    "\n",
    "# Definitions\n",
    "from definitions import *"
   ]
  },
  {
   "cell_type": "markdown",
   "metadata": {},
   "source": [
    "#### Variables Main"
   ]
  },
  {
   "cell_type": "code",
   "execution_count": null,
   "metadata": {},
   "outputs": [],
   "source": [
    "API_TOKEN = 'Your_Token_Here'\n",
    "bot = telebot.TeleBot(API_TOKEN)\n",
    "\n",
    "config_driver = ConfigDriver()\n",
    "driver = config_driver.get_driver()\n",
    "\n",
    "amazon_config = Amazon(driver)\n",
    "offers_day = False\n",
    "search_product = False"
   ]
  },
  {
   "cell_type": "markdown",
   "metadata": {},
   "source": [
    "#### Main"
   ]
  },
  {
   "cell_type": "code",
   "execution_count": 3,
   "metadata": {
    "id": "bBKBLu_HDTOM"
   },
   "outputs": [],
   "source": [
    "def prepare_markup():\n",
    "    \"\"\" Method to prepare the markup \"\"\"\n",
    "    \n",
    "    markup = InlineKeyboardMarkup()\n",
    "    \n",
    "    option1 = InlineKeyboardButton(\"Pesquisar Preço de Produto\", callback_data=\"opt1\")\n",
    "    option2 = InlineKeyboardButton(\"Ofertas do Dia\", callback_data=\"opt2\")\n",
    "\n",
    "    markup.add(option1, option2)\n",
    "        \n",
    "    return markup\n",
    "\n",
    "def get_function_details(message):\n",
    "    \"\"\" Method to get the function details \"\"\"\n",
    "    \n",
    "    global offers_day, search_product\n",
    "    \n",
    "    response = {}\n",
    "    \n",
    "    if message.text == '/start':\n",
    "        response['message'] = \"Assistente Virtual da Amazon inicializado!\"\n",
    "    \n",
    "    elif message.text in SAUDACOES:\n",
    "        user = message.from_user.first_name\n",
    "        \n",
    "        markup = InlineKeyboardMarkup()\n",
    "        \n",
    "        response['markup'] = prepare_markup()\n",
    "        \n",
    "        response['text'] = f\"Eae {user}! Em que posso te ajudar?\"\n",
    "    elif offers_day and amazon_config.is_departament(message.text):\n",
    "        departament_choice = message.text\n",
    "        response['products'] = amazon_config.get_products_of_departament(departament_choice)\n",
    "        offers_day = False\n",
    "    elif search_product:\n",
    "        search_product = False\n",
    "        product_name = message.text\n",
    "        product = amazon_config.get_top_products(product_name)\n",
    "        if len(product) == 0:\n",
    "            response['message'] = \"Desculpe, não foi possível encontrar o produto que você deseja.\"\n",
    "        else:\n",
    "            response['search_product'] = product\n",
    "    else:\n",
    "        response['message'] = \"Desculpe, eu não entendi o que você disse.\"\n",
    "        \n",
    "    return response\n",
    "\n",
    "################################################################################\n",
    "@bot.message_handler(func=lambda message: True)\n",
    "def reply_message(message):\n",
    "    \"\"\" Method to reply the message \"\"\"\n",
    "    \n",
    "    response = get_function_details(message)\n",
    "    \n",
    "    if 'markup' in response:\n",
    "        bot.reply_to(message, response['text'], reply_markup=response[\"markup\"])\n",
    "    elif 'message' in response:\n",
    "        bot.send_message(message.chat.id, response['message'])\n",
    "        \n",
    "    elif 'products' in response:\n",
    "        list_products = []\n",
    "\n",
    "        for product in response['products']:\n",
    "            product_name, product_link, product_image, product_discount = product\n",
    "\n",
    "            # Skip products with any missing information\n",
    "            if not all([product_name, product_link, product_image, product_discount]):\n",
    "                continue\n",
    "\n",
    "            list_products.append((product_name, product_link, product_image, product_discount))\n",
    "\n",
    "        bot.send_message(message.chat.id, f\"🛒 *Foi encontrado* {len(list_products)} *produtos!*\", parse_mode='Markdown')\n",
    "        bot.send_message(message.chat.id, \"📢 *Aqui estão as ofertas do dia!*\", parse_mode='Markdown')\n",
    "\n",
    "        for product in list_products:\n",
    "            product_name, product_link, product_image, product_discount = product\n",
    "\n",
    "            message_text = (\n",
    "                f\"📦 *Produto:* {product_name}\\n\"\n",
    "                f\"💸 *Desconto:* {product_discount}\\n\"\n",
    "                f\"🔗 [Clique aqui]({product_link})\"\n",
    "            )\n",
    "            \n",
    "            try:\n",
    "                bot.send_photo(\n",
    "                    chat_id=message.chat.id,\n",
    "                    photo=product_image,\n",
    "                    caption=message_text,\n",
    "                    parse_mode='Markdown'\n",
    "                )\n",
    "            except Exception as e:\n",
    "                error_message = f\"⚠️ Erro ao enviar o produto: {product_name}\"\n",
    "                bot.send_message(chat_id=message.chat.id, text=error_message, parse_mode='Markdown')\n",
    "                print(f\"Erro ao enviar o produto '{product_name}': {e}\")\n",
    "\n",
    "        bot.send_message(message.chat.id, \"🤖 *O que posso te ajudar?*\", reply_markup=prepare_markup(), parse_mode='Markdown')\n",
    "\n",
    "    elif 'search_product' in response:\n",
    "        products = response['search_product']\n",
    "        \n",
    "        for product in products:\n",
    "            product_name = product.get('name', 'No Name')\n",
    "            product_link = product.get('link', 'No Link')\n",
    "            product_image = product.get('image', '')\n",
    "            product_price = product.get('price', 'Preço não disponível')\n",
    "\n",
    "            message_text = (\n",
    "                f\"📦 *Produto:* {product_name}\\n\"\n",
    "                f\"💰 *Preço:* R${product_price}\\n\"\n",
    "                f\"🔗 [Clique aqui]({product_link})\"\n",
    "            )\n",
    "            \n",
    "            try:\n",
    "                bot.send_photo(\n",
    "                    chat_id=message.chat.id,\n",
    "                    photo=product_image,\n",
    "                    caption=message_text,\n",
    "                    parse_mode='Markdown'\n",
    "                )\n",
    "            except Exception as e:\n",
    "                bot.send_message(chat_id=message.chat.id, text=f\"Erro ao enviar o produto: {product_name}\")\n",
    "                print(f\"Erro ao enviar o produto: {e}\")\n",
    "        \n",
    "        bot.send_message(message.chat.id, \"🤖 *O que posso te ajudar?*\", reply_markup=prepare_markup(), parse_mode='Markdown')\n",
    "\n",
    "################################################################################\n",
    "@bot.callback_query_handler(func=lambda call: True)\n",
    "def handle_callback_query(call):\n",
    "    \"\"\" Method to handle the callback query \"\"\"\n",
    "    \n",
    "    global offers_day, search_product\n",
    "    \n",
    "    if call.data == \"opt1\":\n",
    "        bot.answer_callback_query(call.id, \"Pesquisar Preço de Produto!\")\n",
    "        search_product = True\n",
    "\n",
    "        bot.send_message(call.message.chat.id, \"Digite o nome do produto que você deseja pesquisar!\")\n",
    "    \n",
    "    elif call.data == \"opt2\":\n",
    "        \n",
    "        offers_day = True\n",
    "        \n",
    "        bot.answer_callback_query(call.id, \"Ofertas do Dia!\")        \n",
    "        departments = amazon_config.get_departaments_offer_of_the_day()\n",
    "        \n",
    "        departments_formatted = \"\\n\".join(departments)\n",
    "        \n",
    "        bot.send_message(call.message.chat.id, f\"Departamentos disponíveis:\\n{departments_formatted}\")\n",
    "        bot.send_message(call.message.chat.id, \"Qual departamento você deseja ver as ofertas?\")\n",
    "\n",
    "################################################################################"
   ]
  },
  {
   "cell_type": "markdown",
   "metadata": {},
   "source": [
    "#### Run Bot"
   ]
  },
  {
   "cell_type": "code",
   "execution_count": null,
   "metadata": {
    "id": "yV0aZxrhDfzP"
   },
   "outputs": [],
   "source": [
    "bot.polling()"
   ]
  }
 ],
 "metadata": {
  "colab": {
   "provenance": []
  },
  "kernelspec": {
   "display_name": "Python 3",
   "name": "python3"
  },
  "language_info": {
   "codemirror_mode": {
    "name": "ipython",
    "version": 3
   },
   "file_extension": ".py",
   "mimetype": "text/x-python",
   "name": "python",
   "nbconvert_exporter": "python",
   "pygments_lexer": "ipython3",
   "version": "3.9.5"
  }
 },
 "nbformat": 4,
 "nbformat_minor": 0
}
