{
  "cells": [
    {
      "cell_type": "markdown",
      "metadata": {},
      "source": [
        "#### Imports"
      ]
    },
    {
      "cell_type": "code",
      "execution_count": 1,
      "metadata": {
        "id": "6umXZI0eCfIS"
      },
      "outputs": [],
      "source": [
        "# Telegram Bot\n",
        "import telebot\n",
        "from telebot.types import InlineKeyboardMarkup, InlineKeyboardButton\n",
        "\n",
        "# Config Driver\n",
        "from config.config_driver import ConfigDriver\n",
        "\n",
        "# Amazon Driver\n",
        "from amazon.amazon import Amazon\n",
        "\n",
        "# Definitions\n",
        "from definitions import *"
      ]
    },
    {
      "cell_type": "markdown",
      "metadata": {},
      "source": [
        "#### Variables Main"
      ]
    },
    {
      "cell_type": "code",
      "execution_count": 2,
      "metadata": {},
      "outputs": [],
      "source": [
        "API_TOKEN = 'Your_Token_Here'\n",
        "bot = telebot.TeleBot(API_TOKEN)\n",
        "\n",
        "config_driver = ConfigDriver()\n",
        "driver = config_driver.get_driver()\n",
        "\n",
        "amazon_config = Amazon(driver)"
      ]
    },
    {
      "cell_type": "markdown",
      "metadata": {},
      "source": [
        "#### Main"
      ]
    },
    {
      "cell_type": "code",
      "execution_count": 3,
      "metadata": {
        "id": "bBKBLu_HDTOM"
      },
      "outputs": [],
      "source": [
        "\n",
        "def get_function_details(message):\n",
        "    \"\"\" Method to get the function details \"\"\"\n",
        "    \n",
        "    response = {}\n",
        "    \n",
        "    if message.text == '/start':\n",
        "        response['message'] = \"Assistente Virtual da Amazon inicializado!\"\n",
        "    \n",
        "    elif message.text in SAUDACOES:\n",
        "        user = message.from_user.first_name\n",
        "        \n",
        "        markup = InlineKeyboardMarkup()\n",
        "        option1 = InlineKeyboardButton(\"Pesquisar Preço de Produto\", callback_data=\"opt1\")\n",
        "        option2 = InlineKeyboardButton(\"Ofertas do Dia\", callback_data=\"opt2\")\n",
        "        option3 = InlineKeyboardButton(\"Prime Vídeo\", callback_data=\"opt3\")\n",
        "        response['markup'] = markup.add(option1, option2, option3)\n",
        "        \n",
        "        response['text'] = f\"Eae {user}! Em que posso te ajudar?\"\n",
        "    else:\n",
        "        response['message'] = \"Desculpe, eu não entendi o que você disse.\"\n",
        "        \n",
        "    return response\n",
        "\n",
        "################################################################################\n",
        "@bot.message_handler(func=lambda message: True)\n",
        "def reply_message(message):\n",
        "    \"\"\" Method to reply the message \"\"\"\n",
        "    \n",
        "    response = get_function_details(message)\n",
        "    \n",
        "    if 'markup' in response:\n",
        "        bot.reply_to(message, response['text'], reply_markup=response[\"markup\"])\n",
        "    elif 'message' in response:\n",
        "        bot.send_message(message.chat.id, response['message'])\n",
        "    else:\n",
        "        bot.reply_to(message, response['text'])\n",
        "\n",
        "################################################################################\n",
        "@bot.callback_query_handler(func=lambda call: True)\n",
        "def handle_callback_query(call):\n",
        "    \"\"\" Method to handle the callback query \"\"\"\n",
        "    \n",
        "    if call.data == \"opt1\":\n",
        "        bot.answer_callback_query(call.id, \"Pesquisar Preço de Produto!\")\n",
        "    \n",
        "    elif call.data == \"opt2\":\n",
        "        bot.answer_callback_query(call.id, \"Ofertas do Dia!\")\n",
        "        \n",
        "        departments = amazon_config.get_departaments_offer_of_the_day()\n",
        "        \n",
        "        bot.send_message(call.message.chat.id, f\"Departamentos disponíveis:\\n{departments}\")\n",
        "        bot.send_message(call.message.chat.id, \"Qual departamento você deseja ver as ofertas?\")\n",
        "    \n",
        "    elif call.data == \"opt3\":\n",
        "        bot.answer_callback_query(call.id, \"Prime Vídeo!\")\n",
        "\n",
        "################################################################################"
      ]
    },
    {
      "cell_type": "markdown",
      "metadata": {},
      "source": [
        "#### Run Bot"
      ]
    },
    {
      "cell_type": "code",
      "execution_count": 4,
      "metadata": {
        "id": "yV0aZxrhDfzP"
      },
      "outputs": [],
      "source": [
        "bot.polling()"
      ]
    }
  ],
  "metadata": {
    "colab": {
      "provenance": []
    },
    "kernelspec": {
      "display_name": "Python 3",
      "name": "python3"
    },
    "language_info": {
      "codemirror_mode": {
        "name": "ipython",
        "version": 3
      },
      "file_extension": ".py",
      "mimetype": "text/x-python",
      "name": "python",
      "nbconvert_exporter": "python",
      "pygments_lexer": "ipython3",
      "version": "3.9.5"
    }
  },
  "nbformat": 4,
  "nbformat_minor": 0
}
